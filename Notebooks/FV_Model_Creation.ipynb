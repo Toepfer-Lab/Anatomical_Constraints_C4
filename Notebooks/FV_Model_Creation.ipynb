{
 "cells": [
  {
   "cell_type": "markdown",
   "metadata": {
    "collapsed": false,
    "pycharm": {
     "name": "#%% md\n"
    }
   },
   "source": [
    "# C4 model"
   ]
  },
  {
   "cell_type": "markdown",
   "metadata": {
    "collapsed": false,
    "pycharm": {
     "name": "#%% md\n"
    }
   },
   "source": [
    "Generation of a Maize C4 model (\"MaizeCore\") from a mass and proton balanced model of plant primary metabolism"
   ]
  },
  {
   "cell_type": "markdown",
   "metadata": {
    "collapsed": false,
    "pycharm": {
     "name": "#%% md\n"
    }
   },
   "source": [
    "### Imports"
   ]
  },
  {
   "cell_type": "code",
   "execution_count": 1,
   "metadata": {
    "collapsed": false,
    "pycharm": {
     "name": "#%%\n"
    }
   },
   "outputs": [],
   "source": [
    "import pandas as pd\n",
    "import sys\n",
    "from cobra.io import read_sbml_model, write_sbml_model\n",
    "from cobra import Reaction\n",
    "sys.path.append(\"../Code\")\n",
    "from model_functions import *\n",
    "\n",
    "#General Core Model\n",
    "general_model = read_sbml_model(\"../Models/PlantCoreMetabolism_v2_0_0.xml\")"
   ]
  },
  {
   "cell_type": "markdown",
   "metadata": {
    "collapsed": false,
    "pycharm": {
     "name": "#%% md\n"
    }
   },
   "source": [
    "### Curation: Adding Reactions"
   ]
  },
  {
   "cell_type": "code",
   "execution_count": 2,
   "metadata": {
    "collapsed": false,
    "pycharm": {
     "name": "#%%\n"
    }
   },
   "outputs": [],
   "source": [
    "\"\"\"\n",
    "Maize Biomass\n",
    "\"\"\"\n",
    "#Create the biomass reaction\n",
    "reaction = Reaction('Maize_biomass_tx')\n",
    "reaction.name = 'Maize biomass'\n",
    "reaction.lower_bound = 0.  # This is the default\n",
    "reaction.upper_bound = 1000.\n",
    "\n",
    "#Import the pandas dataframe\n",
    "\n",
    "df = pd.read_csv(\"../Datasets/Biomass_no_nucleotide.csv\")\n",
    "\n",
    "#Get a list with the metabolite IDs from the generic model\n",
    "met_list = []\n",
    "\n",
    "for id in df.loc[:,\"Ids\"]:\n",
    "    met = general_model.metabolites.get_by_id(id)\n",
    "    met_list.append(met)\n",
    "\n",
    "#Create a list with the coefficients\n",
    "coef = list(df.loc[:,\"Maize\"])\n",
    "\n",
    "#Add metabolites to the model: dictionary - keys are metabolites and values are the coefficients\n",
    "for i in range(len(coef)):\n",
    "    reaction.add_metabolites({met_list[i]:coef[i]})\n",
    "\n",
    "general_model.add_reactions([reaction])"
   ]
  },
  {
   "cell_type": "code",
   "execution_count": 3,
   "metadata": {
    "collapsed": false,
    "pycharm": {
     "name": "#%%\n"
    }
   },
   "outputs": [],
   "source": [
    "\"\"\"\n",
    "Malate/Pyruvate Transporter\n",
    "\"\"\"\n",
    "\n",
    "MAL_c = general_model.metabolites.MAL_c\n",
    "MAL_p = general_model.metabolites.MAL_p\n",
    "PYRUVATE_c = general_model.metabolites.PYRUVATE_c\n",
    "PYRUVATE_p = general_model.metabolites.PYRUVATE_p\n",
    "\n",
    "#Create the biomass reaction\n",
    "transporter = Reaction('PYR_MAL_pc')\n",
    "transporter.name = 'Malate/Pyruvate Transport'\n",
    "transporter.lower_bound = -1000.  # This is the default\n",
    "transporter.upper_bound = 1000.\n",
    "\n",
    "transporter.add_metabolites({\n",
    "    PYRUVATE_p: -1.0,\n",
    "    MAL_c: -1.0,\n",
    "    PYRUVATE_c: 1.0,\n",
    "    MAL_p: 1.0\n",
    "})\n",
    "\n",
    "general_model.add_reactions([transporter])\n"
   ]
  },
  {
   "cell_type": "code",
   "execution_count": 4,
   "metadata": {
    "collapsed": false,
    "pycharm": {
     "name": "#%%\n"
    }
   },
   "outputs": [],
   "source": [
    "\"\"\"\n",
    "Proton mediated pyruvate transporter\n",
    "\"\"\"\n",
    "\n",
    "Pyr_c = general_model.metabolites.PYRUVATE_c\n",
    "H_c = general_model.metabolites.PROTON_c\n",
    "Pyr_p = general_model.metabolites.PYRUVATE_p\n",
    "H_p = general_model.metabolites.PROTON_p\n",
    "\n",
    "#Create the biomass reaction\n",
    "transporter = Reaction('Pyr_H_pc')\n",
    "transporter.name = 'Proton Mediated Pyruvate Transport'\n",
    "transporter.lower_bound = -1000.  # This is the default\n",
    "transporter.upper_bound = 1000.\n",
    "\n",
    "transporter.add_metabolites({\n",
    "    Pyr_c: -1.0,\n",
    "    H_c: -1.0,\n",
    "    Pyr_p: 1.0,\n",
    "    H_p: 1.0\n",
    "})\n",
    "\n",
    "general_model.add_reactions([transporter])"
   ]
  },
  {
   "cell_type": "code",
   "execution_count": 5,
   "metadata": {
    "collapsed": false,
    "pycharm": {
     "name": "#%%\n"
    }
   },
   "outputs": [],
   "source": [
    "\"\"\"\n",
    "Correct proton stoichiometry of PEP transporter\n",
    "\"\"\"\n",
    "\n",
    "H_c = general_model.metabolites.PROTON_c\n",
    "H_p = general_model.metabolites.PROTON_p\n",
    "PI_c = general_model.metabolites.Pi_c\n",
    "aPI_c = general_model.metabolites.aPi_c\n",
    "PI_p = general_model.metabolites.Pi_p\n",
    "PEP_c = general_model.metabolites.PHOSPHO_ENOL_PYRUVATE_c\n",
    "PEP_p = general_model.metabolites.PHOSPHO_ENOL_PYRUVATE_p\n",
    "\n",
    "#Create the biomass reaction\n",
    "transporter = Reaction('PPT_pc')\n",
    "transporter.name = 'Phosphoenolpyruvate Transporter'\n",
    "transporter.lower_bound = -1000.  # This is the default\n",
    "transporter.upper_bound = 1000.\n",
    "\n",
    "transporter.add_metabolites({\n",
    "    PEP_p: -1.0,\n",
    "    H_p: -1.0,\n",
    "    PI_c: -0.7,\n",
    "    aPI_c: -0.3,\n",
    "    PEP_c: 1.0,\n",
    "    H_c: 1.3,\n",
    "    PI_p: 1.0\n",
    "})\n",
    "\n",
    "general_model.add_reactions([transporter])\n"
   ]
  },
  {
   "cell_type": "markdown",
   "metadata": {
    "collapsed": false,
    "pycharm": {
     "name": "#%% md\n"
    }
   },
   "source": [
    "### Initial constrains applied to the base model"
   ]
  },
  {
   "cell_type": "code",
   "execution_count": 6,
   "metadata": {
    "collapsed": false,
    "pycharm": {
     "name": "#%%\n"
    }
   },
   "outputs": [],
   "source": [
    "\"\"\"\n",
    "Generic constrains\n",
    "\"\"\"\n",
    "#Initial import/export constraints\n",
    "set_bounds('CO2_tx', (-1000, 1000), general_model)\n",
    "set_bounds('H2O_tx', (-1000, 1000), general_model)\n",
    "set_bounds('NH4_tx', (0., 0.), general_model)\n",
    "set_bounds('Pi_tx', (0, 1000), general_model)\n",
    "set_bounds('SO4_tx', (0, 1000), general_model)\n",
    "set_bounds('O2_tx', (-1000, 1000), general_model)\n",
    "set_bounds('Sucrose_tx', (-1000, 0), general_model) #Exported but not imported\n",
    "set_bounds('GLC_tx', (-1000, 0), general_model)\n",
    "set_bounds('unlProtHYPO_c', (0, 0), general_model)\n",
    "\n",
    "#Bounds for ATP\n",
    "set_bounds('ATPase_tx', (0, 1000), general_model)\n",
    "\n",
    "#Bounds for chloroplastic NADPH dehydrogenase and plastoquinol oxidase\n",
    "\n",
    "set_bounds('Plastoquinol_Oxidase_p', (0, 0), general_model)\n",
    "\n",
    "#NTT is only active at night\n",
    "set_fixed_flux(\"ATP_ADP_Pi_pc\", 0, general_model)\n",
    "\n",
    "#No uncoupled pyruvate transport\n",
    "set_bounds('PYRUVATE_pc', (0, 0), general_model)\n",
    "\n",
    "#Blocking Extra Biomass reaction\n",
    "set_bounds(\"Biomass_tx\", (0,0), general_model)\n",
    "set_bounds(\"AraCore_Biomass_tx\", (0,0), general_model)\n",
    "set_bounds(\"Phloem_output_tx\", (0,0), general_model)\n",
    "\n",
    "#Block Former PEP transport reaction\n",
    "set_bounds(\"PEP_Pi_pc\", (0,0), general_model)\n"
   ]
  },
  {
   "cell_type": "markdown",
   "metadata": {
    "collapsed": false,
    "pycharm": {
     "name": "#%% md\n"
    }
   },
   "source": [
    "## Generation of the C4 \"MaizeCore\" model"
   ]
  },
  {
   "cell_type": "markdown",
   "metadata": {
    "collapsed": false,
    "pycharm": {
     "name": "#%% md\n"
    }
   },
   "source": [
    "## Model Duplication"
   ]
  },
  {
   "cell_type": "code",
   "execution_count": 7,
   "metadata": {
    "collapsed": false,
    "pycharm": {
     "name": "#%%\n"
    }
   },
   "outputs": [],
   "source": [
    "\"\"\"\n",
    "Creating the C4 model\n",
    "\"\"\"\n",
    "\n",
    "from cobra import Model, Reaction, Metabolite\n",
    "\n",
    "c4_model = Model('c4_model')\n",
    "\n",
    "cell_types = ['M', 'B']\n",
    "\n",
    "#duplicate metabolites\n",
    "for m in general_model.metabolites:\n",
    "    for cell in cell_types:\n",
    "        m_dt = Metabolite('['+cell+']_'+m.id, name = m.formula, compartment = m.compartment)\n",
    "        c4_model.add_metabolites([m_dt])\n",
    "\n",
    "#duplicate reactions\n",
    "for r_c3_obj in general_model.reactions:\n",
    "    for cell in cell_types:\n",
    "        r_c4_obj = Reaction('['+cell+']_'+r_c3_obj.id)\n",
    "        r_c4_obj.name = r_c3_obj.name\n",
    "        r_c4_obj.subsystem = r_c3_obj.subsystem\n",
    "        r_c4_obj.bounds = r_c3_obj.bounds\n",
    "        c4_model.add_reaction(r_c4_obj)\n",
    "        r_c4_obj.add_metabolites({'['+cell+']_'+m_c3_obj.id: r_c3_obj.get_coefficient(m_c3_obj) for m_c3_obj in r_c3_obj.metabolites})\n",
    "\n"
   ]
  },
  {
   "cell_type": "markdown",
   "metadata": {
    "collapsed": false,
    "pycharm": {
     "name": "#%% md\n"
    }
   },
   "source": [
    "## Establishing exchange of cytosolic metabolites between cell types"
   ]
  },
  {
   "cell_type": "code",
   "execution_count": 8,
   "metadata": {
    "collapsed": false,
    "pycharm": {
     "name": "#%%\n"
    }
   },
   "outputs": [],
   "source": [
    "\"\"\"\n",
    "Exchange Reactions\n",
    "\n",
    "All metabolites except Na, AD, DHF, TRXox, TRXrd, T6P and OMP have\n",
    "corresponding metabolites in the plastid compartment of the generic model\n",
    "\n",
    "\"\"\"\n",
    "\n",
    "Na,F26BP, ORO, DHO, GABA, PRPP, AD, DHF, starch, TRXox, TRXrd, T6P, OMP, UMP, CTP, dADP, dCDP, dGDP, dUDP, dATP, dCTP, dGTP = 0,0,0,0,0,0,0,0,0,0,0,0,0,0,0,0,0,0,0,0,0,0\n",
    "\n",
    "\n",
    "no_transport_general = [ Na, \"HS\",\n",
    "                        \"FRUCTOSE_16_DIPHOSPHATE\",  F26BP, \"DPG\", \"PROTON\", \"ACETALD\", \"ACET\", \"5_10_METHENYL_THF\",\n",
    "                        \"5_METHYL_THF\", \"HOMO_CYS\", \"ADENOSYL_HOMO_CYS\", ORO, DHO,\n",
    "                        GABA, \"ACETYLSERINE\", PRPP, AD, \"THF\", DHF , \"ADENOSINE\", \"MALTOSE\", \"CO_A\", \"L_GLUTAMATE_5_P\", \"aL_GLUTAMATE_5_P\"\n",
    "                        \"ACETYL_COA\", \"CELLULOSE\", starch, TRXox, TRXrd, \"L_GLUTAMATE_GAMMA_SEMIALDEHYDE\", T6P, \"S_ADENOSYLMETHIONINE\",\n",
    "                        \"PPI\", \"L_DELTA1_PYRROLINE_5_CARBOXYLATE\", \"CARBON_DIOXIDE\", \"OXALACETIC_ACID\", \"HCO3\",\n",
    "                        \"UTP\",\"aUTP\", \"UDP\",\"aUDP\", \"UDP_GLUCOSE\", \"ATP\", \"aATP\",\"ADP\", \"aADP\",\"AMP\", \"IMP\", \"aIMP\",\"XANTHOSINE_5_PHOSPHATE\", \"aXANTHOSINE_5_PHOSPHATE\",\n",
    "                        \"GTP\", \"aGTP\",\"GDP\",\"aGDP\", \"GMP\",\"aGMP\", \"bGMP\",OMP, UMP, CTP, \"GDP\", \"aGDP\",\"CDP\", dADP,\n",
    "                        dCDP, dGDP, dUDP, \"DUMP\", \"DTMP\",  \"aDTDP\", \"GTP\",\n",
    "                        dATP, dCTP, dGTP, \"DTTP\" \"aDTTP\", \"NAD\", \"NADH\", \"NADP\", \"NADPH\"]\n",
    "\n",
    "#add M/BS exchange reactions\n",
    "L_r_transport = []\n",
    "for m_c3_obj in general_model.metabolites:\n",
    "    if m_c3_obj.id[-1:] == 'c' and m_c3_obj.id[:-2] not in no_transport_general and  m_c3_obj.id[-2:] != 'mc':\n",
    "        r_c4_obj = Reaction('[MB]_'+m_c3_obj.id)\n",
    "        r_c4_obj.name = '[MB]_'+m_c3_obj.id\n",
    "        r_c4_obj.subsystem = 'Exchange'\n",
    "        r_c4_obj.bounds = (-1000, 1000)\n",
    "        c4_model.add_reaction(r_c4_obj)\n",
    "        r_c4_obj.add_metabolites({'[M]_'+m_c3_obj.id: -1,'[B]_'+m_c3_obj.id: 1 })\n",
    "        L_r_transport.append('[MB]_'+m_c3_obj.id)"
   ]
  },
  {
   "cell_type": "markdown",
   "metadata": {
    "collapsed": false,
    "pycharm": {
     "name": "#%% md\n"
    }
   },
   "source": [
    "### Establishment of Rubisco populations in the bundle sheath"
   ]
  },
  {
   "cell_type": "code",
   "execution_count": 9,
   "metadata": {
    "collapsed": false,
    "pycharm": {
     "name": "#%%\n"
    }
   },
   "outputs": [],
   "source": [
    "\"\"\"\n",
    "Rubisco - Second unconstrained Rubisco population\n",
    "\"\"\"\n",
    "\n",
    "#CONSTRAINT: Add external CO2 species to bundle sheath\n",
    "#(the original CO2 species is treated as internal CO2)\n",
    "m_list_CO_Ex= ['[B]_CARBON_DIOXIDE_ex_c','[B]_CARBON_DIOXIDE_ex_p']\n",
    "\n",
    "for m_id in m_list_CO_Ex:\n",
    "    m_obj = Metabolite(m_id)\n",
    "    m_obj.compartment = m_id[-1]\n",
    "    c4_model.add_metabolites(m_obj)\n",
    "\n",
    "#CONSTRAINT: Copy reactions 'Tr_CO2h', 'RBC_h' and replace internal CO2 with external CO2 in the copied reactions\n",
    "r_list_CO_Ex = ['CO2_pc', 'RIBULOSE_BISPHOSPHATE_CARBOXYLASE_RXN_p']\n",
    "\n",
    "for r_id in r_list_CO_Ex:\n",
    "    r_obj = c4_model.reactions.get_by_id('[B]_'+r_id)\n",
    "    r_obj_Ex = Reaction(r_obj.id+'_Ex')\n",
    "    r_obj_Ex.name = r_obj.id+'_Ex'\n",
    "    r_obj_Ex.subsystem = r_obj.subsystem\n",
    "    r_obj_Ex.bounds = r_obj.bounds\n",
    "    c4_model.add_reaction(r_obj_Ex)\n",
    "    r_obj_Ex.add_metabolites({m_obj.id if not m_obj.id[:-2] == '[B]_CARBON_DIOXIDE' else '[B]_CARBON_DIOXIDE_ex'+m_obj.id[-2:]: r_obj.get_coefficient(m_obj)\n",
    "                                  for m_obj in r_obj.metabolites})\n",
    "\n",
    "#CONSTRAINT: CO2 exchange between mesophyll and bundle sheat\n",
    "r_c4_obj = Reaction('[MB]_CO2_c')\n",
    "r_c4_obj.name = '[MB]_CO2_c'\n",
    "r_c4_obj.subsystem = 'Exchange'\n",
    "r_c4_obj.bounds = (-1000, 1000)\n",
    "c4_model.add_reaction(r_c4_obj)\n",
    "r_c4_obj.add_metabolites({'[M]_CARBON_DIOXIDE_c': -1,'[B]_CARBON_DIOXIDE_ex_c': 1 })\n",
    "L_r_transport.append('[MB]_CARBON_DIOXIDE_c')"
   ]
  },
  {
   "cell_type": "markdown",
   "metadata": {
    "collapsed": false,
    "pycharm": {
     "name": "#%% md\n"
    }
   },
   "source": [
    "### Constrains specific to the \"MaizeCore\" C4 model"
   ]
  },
  {
   "cell_type": "code",
   "execution_count": 10,
   "metadata": {
    "collapsed": false,
    "pycharm": {
     "name": "#%%\n"
    }
   },
   "outputs": [],
   "source": [
    "\"\"\"\n",
    "C4 specific constrains\n",
    "\"\"\"\n",
    "\n",
    "#CONSTRAINT: No CO2 uptake in bundle sheat cells due to suberin layer in cell membranes\n",
    "set_bounds(\"[B]_CO2_tx\", (0.,0.), c4_model)\n",
    "\n",
    "#Gaseous exchanges only through the M cell\n",
    "set_bounds(\"[B]_O2_tx\", (0.,0.,), c4_model)\n",
    "\n",
    "# Only allow uptakes through the BS of inorganic metabolites\n",
    "set_bounds(\"[M]_Nitrate_tx\", (0.,0.), c4_model)\n",
    "set_bounds(\"[M]_SO4_tx\", (0.,0.), c4_model)\n",
    "set_bounds(\"[M]_H2O_tx\", (0.,0.), c4_model)\n",
    "set_bounds(\"[M]_Ca_tx\", (0.,0.), c4_model)\n",
    "set_bounds(\"[M]_Mg_tx\", (0.,0.), c4_model)\n",
    "set_bounds(\"[M]_H2O_tx\", (0.,0.), c4_model)\n",
    "set_bounds(\"[M]_Pi_tx\", (0.,0.), c4_model)\n",
    "set_bounds(\"[M]_Ca_tx\", (0.,0.), c4_model)\n",
    "set_bounds(\"[M]_K_tx\", (0.,0.), c4_model)\n",
    "\n",
    "#Force NADP-ME decarboxylation pathway: Block all other decarboxylation reactions except NADP_ME in the plastid\n",
    "set_fixed_flux(\"[B]_MALIC_NADP_RXN_c\", 0, c4_model)\n",
    "\n",
    "#Force NADP-ME decarboxylation pathways: make alternative decarboxylation routes irreversible\n",
    "set_bounds('[B]_CARBAMATE_KINASE_RXN_p', (0, 1000), c4_model)\n",
    "set_bounds('[M]_CARBAMATE_KINASE_RXN_p', (0, 1000), c4_model)\n",
    "\n",
    "set_bounds('[B]_UREASE_RXN_c', (0, 0), c4_model)\n",
    "set_bounds('[M]_UREASE_RXN_c', (0, 99999999), c4_model)\n",
    "\n",
    "set_bounds('[B]_ISOCITDEH_RXN_m', (0, 1000), c4_model)\n",
    "set_bounds('[M]_ISOCITDEH_RXN_m', (0, 1000), c4_model)\n",
    "\n",
    "set_bounds('[B]_ISOCITDEH_RXN_c', (0, 1000), c4_model)\n",
    "set_bounds('[M]_ISOCITDEH_RXN_c', (0, 1000), c4_model)\n",
    "\n",
    "set_bounds('[B]_ISOCITRATE_DEHYDROGENASE_NAD_RXN_m', (0, 1000), c4_model)\n",
    "set_bounds('[M]_ISOCITRATE_DEHYDROGENASE_NAD_RXN_m', (0, 1000), c4_model)\n",
    "\n",
    "set_bounds('[M]_PYRUVATEORTHOPHOSPHATE_DIKINASE_RXN_c', (0, 0), c4_model)\n",
    "\n",
    "#Block PSII in the BS cell\n",
    "set_bounds('[B]_PSII_RXN_p', (0, 0), c4_model)\n",
    "\n",
    "###Make 1.18.1.2 irreversible - Ferrodoxin:NADP(H) oxireductase (FNR)\n",
    "set_bounds(\"[B]_1_PERIOD_18_PERIOD_1_PERIOD_2_RXN_p\", (0, 1000), c4_model)\n",
    "set_bounds(\"[M]_1_PERIOD_18_PERIOD_1_PERIOD_2_RXN_p\", (-1000, 1000), c4_model)\n"
   ]
  },
  {
   "cell_type": "code",
   "execution_count": 11,
   "metadata": {
    "collapsed": false,
    "pycharm": {
     "name": "#%%\n"
    }
   },
   "outputs": [
    {
     "data": {
      "text/html": [
       "\n",
       "        <table>\n",
       "            <tr>\n",
       "                <td><strong>Name</strong></td>\n",
       "                <td>PlantCoreMetabolism_v1_3_0</td>\n",
       "            </tr><tr>\n",
       "                <td><strong>Memory address</strong></td>\n",
       "                <td>0x02b5062e83c8</td>\n",
       "            </tr><tr>\n",
       "                <td><strong>Number of metabolites</strong></td>\n",
       "                <td>861</td>\n",
       "            </tr><tr>\n",
       "                <td><strong>Number of reactions</strong></td>\n",
       "                <td>896</td>\n",
       "            </tr><tr>\n",
       "                <td><strong>Number of groups</strong></td>\n",
       "                <td>208</td>\n",
       "            </tr><tr>\n",
       "                <td><strong>Objective expression</strong></td>\n",
       "                <td>1.0*Phloem_output_tx - 1.0*Phloem_output_tx_reverse_990b1</td>\n",
       "            </tr><tr>\n",
       "                <td><strong>Compartments</strong></td>\n",
       "                <td>Mitochondrion, Cytoplasm, Biomass, Plastid, Vacuole, Peroxisome, Endoplasmic reticulum, Mitochondrion innermembrane interacting with cristal space, Mitochondrion innermembrane interacting with inter membrane space, Extracellular, Thylakoid, Mitochondrial intermembrane space</td>\n",
       "            </tr>\n",
       "          </table>"
      ],
      "text/plain": [
       "<Model PlantCoreMetabolism_v1_3_0 at 0x2b5062e83c8>"
      ]
     },
     "execution_count": 11,
     "metadata": {},
     "output_type": "execute_result"
    }
   ],
   "source": [
    "general_model"
   ]
  },
  {
   "cell_type": "markdown",
   "metadata": {
    "collapsed": false,
    "pycharm": {
     "name": "#%% md\n"
    }
   },
   "source": [
    "### Writing and saving the models"
   ]
  },
  {
   "cell_type": "code",
   "execution_count": 12,
   "metadata": {
    "collapsed": false,
    "pycharm": {
     "name": "#%%\n"
    }
   },
   "outputs": [],
   "source": [
    "\"\"\"\n",
    "Write the models\n",
    "\n",
    "\"\"\"\n",
    "\n",
    "write_sbml_model(general_model, \"../Models/c3_model.xml\")\n",
    "\n",
    "write_sbml_model(c4_model, \"../Models/c4_model.xml\")\n"
   ]
  }
 ],
 "metadata": {
  "kernelspec": {
   "display_name": "Python 3.7.0 ('py37')",
   "language": "python",
   "name": "python3"
  },
  "language_info": {
   "codemirror_mode": {
    "name": "ipython",
    "version": 3
   },
   "file_extension": ".py",
   "mimetype": "text/x-python",
   "name": "python",
   "nbconvert_exporter": "python",
   "pygments_lexer": "ipython3",
   "version": "3.7.0"
  },
  "vscode": {
   "interpreter": {
    "hash": "7d15fcec3957283ca3564f33e10fdb218d8ca520fe3cd837373b280b69d49924"
   }
  }
 },
 "nbformat": 4,
 "nbformat_minor": 1
}
