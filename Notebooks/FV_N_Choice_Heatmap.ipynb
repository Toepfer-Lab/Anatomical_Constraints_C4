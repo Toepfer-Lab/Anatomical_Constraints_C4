{
 "cells": [
  {
   "cell_type": "markdown",
   "metadata": {
    "collapsed": false,
    "pycharm": {
     "name": "#%% md\n"
    }
   },
   "source": [
    "# Choice of cell-type specific nitrate assimilation\n",
    "\n",
    "## Categorical Heatmaps to showcase nitrate uptake under varying light conditions, with and without the implementation of a volume constraint\n",
    "\n",
    "### Imports"
   ]
  },
  {
   "cell_type": "code",
   "execution_count": 3,
   "metadata": {
    "collapsed": false,
    "pycharm": {
     "name": "#%%\n"
    }
   },
   "outputs": [],
   "source": [
    "import pandas as pd\n",
    "import sys\n",
    "from cobra.io import read_sbml_model\n",
    "from cobra import flux_analysis\n",
    "import seaborn as sns\n",
    "from matplotlib.colors import LinearSegmentedColormap\n",
    "import matplotlib.pyplot as plt\n",
    "sys.path.append(\"..\\Code\")\n",
    "from model_functions import *"
   ]
  },
  {
   "cell_type": "markdown",
   "metadata": {
    "collapsed": false,
    "pycharm": {
     "name": "#%% md\n"
    }
   },
   "source": [
    "### Reading and preparing the C4 model"
   ]
  },
  {
   "cell_type": "code",
   "execution_count": 4,
   "metadata": {
    "collapsed": false,
    "pycharm": {
     "name": "#%%\n"
    }
   },
   "outputs": [
    {
     "name": "stderr",
     "output_type": "stream",
     "text": [
      "No objective coefficients in model. Unclear what should be optimized\n"
     ]
    }
   ],
   "source": [
    "\"\"\"\n",
    "Read and prepare C4 model\n",
    "\"\"\"\n",
    "\n",
    "c4_model = read_sbml_model(\"..\\Models\\c4_model.xml\")\n",
    "\n",
    "c4_model.solver = \"glpk\"\n",
    "\n",
    "c4_model.objective = '[M]_Maize_biomass_tx'\n",
    "\n",
    "#Setting up Rubisco carboxylase/oxygenase (3:1) ratio in C4 model\n",
    "const = c4_model.problem.Constraint(\n",
    "    3 * c4_model.reactions.get_by_id(\"[M]_RXN_961_p\").flux_expression - 1 * c4_model.reactions.get_by_id(\n",
    "        \"[M]_RIBULOSE_BISPHOSPHATE_CARBOXYLASE_RXN_p\").flux_expression, lb=0, ub=0)\n",
    "c4_model.add_cons_vars(const)\n",
    "\n",
    "const = c4_model.problem.Constraint(\n",
    "    3 * c4_model.reactions.get_by_id(\"[B]_RXN_961_p\").flux_expression - 1 * c4_model.reactions.get_by_id(\n",
    "        \"[B]_RIBULOSE_BISPHOSPHATE_CARBOXYLASE_RXN_p_Ex\").flux_expression, lb=0, ub=0)\n",
    "c4_model.add_cons_vars(const)\n",
    "\n",
    "#Block Mesophyll and Bundle Sheath \"External\" Rubisco\n",
    "set_bounds(\"[M]_RIBULOSE_BISPHOSPHATE_CARBOXYLASE_RXN_p\", (0, 0), c4_model)\n",
    "set_bounds(\"[B]_RIBULOSE_BISPHOSPHATE_CARBOXYLASE_RXN_p_Ex\", (0,0), c4_model)\n",
    "\n",
    "\n",
    "def c4_maintenance(c4_model):\n",
    "    #Constrains for light dependent maintenance costs\n",
    "    atp_b = c4_model.reactions.get_by_id(\"[B]_ATPase_tx\")\n",
    "    photon_b = c4_model.reactions.get_by_id(\"[B]_Photon_tx\")\n",
    "    atp_m = c4_model.reactions.get_by_id(\"[M]_ATPase_tx\")\n",
    "    photon_m = c4_model.reactions.get_by_id(\"[M]_Photon_tx\")\n",
    "\n",
    "    const_b = c4_model.problem.Constraint((0.0049 * photon_b.flux_expression + 2.7852) - atp_b.flux_expression, lb=0,\n",
    "                                          ub=0)\n",
    "    c4_model.add_cons_vars(const_b)\n",
    "\n",
    "    const_m = c4_model.problem.Constraint((0.0049 * photon_m.flux_expression + 2.7852) - atp_m.flux_expression, lb=0,\n",
    "                                          ub=0)\n",
    "    c4_model.add_cons_vars(const_m)\n",
    "    # ATP/NADPH 3:1 constraints\n",
    "    const = c4_model.problem.Constraint(c4_model.reactions.get_by_id(\"[B]_ATPase_tx\").flux_expression - 3 * (\n",
    "                c4_model.reactions.get_by_id(\"[B]_NADPHoxc_tx\").flux_expression + c4_model.reactions.get_by_id(\n",
    "            \"[B]_NADPHoxp_tx\").flux_expression + c4_model.reactions.get_by_id(\"[B]_NADPHoxm_tx\").flux_expression), lb=0,\n",
    "                                        ub=0)\n",
    "    c4_model.add_cons_vars(const)\n",
    "\n",
    "    const = c4_model.problem.Constraint(c4_model.reactions.get_by_id(\"[M]_ATPase_tx\").flux_expression - 3 * (\n",
    "                c4_model.reactions.get_by_id(\"[M]_NADPHoxc_tx\").flux_expression + c4_model.reactions.get_by_id(\n",
    "            \"[M]_NADPHoxp_tx\").flux_expression + c4_model.reactions.get_by_id(\"[M]_NADPHoxm_tx\").flux_expression), lb=0,\n",
    "                                        ub=0)\n",
    "    c4_model.add_cons_vars(const)\n",
    "\n",
    "\n",
    "#Add Light dependent maintenance\n",
    "c4_maintenance(c4_model)"
   ]
  },
  {
   "cell_type": "markdown",
   "metadata": {
    "collapsed": false,
    "pycharm": {
     "name": "#%% md\n"
    }
   },
   "source": [
    "### Function to perform flux simulation"
   ]
  },
  {
   "cell_type": "code",
   "execution_count": 5,
   "metadata": {
    "collapsed": false,
    "pycharm": {
     "name": "#%%\n"
    }
   },
   "outputs": [],
   "source": [
    "\"\"\"\n",
    "Model simulation (autotrofic) with pFBA\n",
    "\n",
    "Generation of a solution frame with resulting fluxes\n",
    "\"\"\"\n",
    "\n",
    "def simul_c4(light, nitrogen, carbon, light_ratio = 1, volume_ratio = 1, absolute_values = False ):\n",
    "     with c4_model:\n",
    "        c4_model.objective = \"[M]_Maize_biomass_tx\" # Objective funtion established as Maize Biomass\n",
    "        c4_model.solver = \"glpk\" # Setting up the solver\n",
    "\n",
    "        # Adding constrains for model inputs\n",
    "        medium = c4_model.medium\n",
    "        medium[\"[M]_CO2_tx\"] = carbon\n",
    "        medium[\"[B]_Nitrate_tx\"] = nitrogen\n",
    "        c4_model.medium = medium\n",
    "\n",
    "        # Implementation of the volume constrain occurs through constraining the exchange fluxes between the cell types in such a way that\n",
    "        # [MB]_Metabolite_tx: 1 [M]_Metabolite_c <--> (1/Volume Ratio) [B]_Metabolite_c\n",
    "        for reaction in c4_model.reactions:\n",
    "            if reaction.id[0:4] == \"[MB]\":\n",
    "                dict = {reaction.products[0] : -(1/volume_ratio)}\n",
    "                reaction.subtract_metabolites(dict, combine=False)\n",
    "\n",
    "\n",
    "        # Defining 2 scenarios for flux simulation:\n",
    "        # \"absolute values\" which account for the effect of the volume increase/decrease of the bundle sheath into bundle sheath light uptake values\n",
    "        # \"relative values\" which disregard this effect and perform computations only with the flux values at μmol m-2 s-1\n",
    "\n",
    "        # Usage of the absolute values implies the consideration of the effect of the Volume Ratio on  light uptake into the bundle sheath  ([B]_Photon_tx * Volume Ratio)\n",
    "        # previous to flux simulation and therefore its effect on Total Photon Uptake and on AB BS/M\n",
    "        # This is achieved by considering this volume ratio in Total Light Uptake and AB BS/M by the model using the formulas below.\n",
    "        set_bounds(\"[M]_Photon_tx\", ((light/(light_ratio+1)), light/(light_ratio+1)), c4_model)\n",
    "        set_bounds(\"[B]_Photon_tx\", ((abs(light-(light/(light_ratio+1))))/volume_ratio, (abs(light-(light/(light_ratio+1))))/volume_ratio), c4_model)\n",
    "\n",
    "\n",
    "        #Performing the pFBA simulation\n",
    "        solution = flux_analysis.pfba(c4_model)\n",
    "        solution_frame = solution.to_frame()\n",
    "\n",
    "        return solution_frame"
   ]
  },
  {
   "cell_type": "markdown",
   "metadata": {
    "collapsed": false,
    "pycharm": {
     "name": "#%% md\n"
    }
   },
   "source": [
    "### Flux Simulations\n",
    "\n",
    "#### Nitrate uptake without the volume constraint"
   ]
  },
  {
   "cell_type": "code",
   "execution_count": 6,
   "metadata": {
    "collapsed": false,
    "pycharm": {
     "name": "#%%\n"
    }
   },
   "outputs": [],
   "source": [
    "# List of investigated AB BS/M ratios\n",
    "list_ratio = [0.1, 0.2, 0.3, 0.4, 0.5, 0.6, 0.7, 0.8, 0.9, 1]\n",
    "\n",
    "# List of investigated total light uptakes\n",
    "list_light = [50, 100, 150, 200, 300, 400, 500, 600, 700, 800, 900, 1000]\n",
    "\n",
    "volume = 1\n",
    "\n",
    "Light_Ratio = []\n",
    "Photon_Uptake = []\n",
    "NITRATE = []\n",
    "N_M = []\n",
    "N_B = []\n",
    "AB = []\n",
    "\n",
    "for r in list_ratio:\n",
    "    for l in list_light:\n",
    "        solution_frame = simul_c4(light = l, nitrogen = 1000, light_ratio=r, volume_ratio= volume, carbon= 40)\n",
    "        NIT_M = solution_frame.loc[\"[M]_NITRATE_REDUCTASE_NADH_RXN_c\"][\"fluxes\"]\n",
    "        N_M.append(NIT_M)\n",
    "        NIT_B = solution_frame.loc[\"[B]_NITRATE_REDUCTASE_NADH_RXN_c\"][\"fluxes\"]\n",
    "        N_B.append(NIT_B)\n",
    "        if NIT_B != 0 and NIT_M < 0.1:\n",
    "            NITRATE.append(0)\n",
    "        elif NIT_M > 0.1 and NIT_B > 0.1:\n",
    "            NITRATE.append(1)\n",
    "        elif NIT_M != 0 and NIT_B < 0.1:\n",
    "            NITRATE.append(2)\n",
    "        Light_Ratio.append(r)\n",
    "        Photon_Uptake.append(l)\n",
    "        res_photo_M = solution_frame.loc[\"[M]_Photon_tx\"][\"fluxes\"]\n",
    "        res_photo_B = solution_frame.loc[\"[B]_Photon_tx\"][\"fluxes\"]\n",
    "        AB.append(round((res_photo_B *  volume )/ res_photo_M, 1))\n",
    "\n",
    "\n",
    "list_of_tuples = list(zip(Light_Ratio, Photon_Uptake, NITRATE, N_M, N_B, AB))\n",
    "df_no_volume = pd.DataFrame(list_of_tuples,\n",
    "                  columns = [\"Ratio (BS/M)\", \"Light Uptake\", \"N Assimilation\", \"Nitrate_M\", \"Nitrate_BS\", \"AB (BS/M)\"])"
   ]
  },
  {
   "cell_type": "code",
   "execution_count": 7,
   "metadata": {
    "collapsed": false,
    "pycharm": {
     "name": "#%%\n"
    }
   },
   "outputs": [
    {
     "data": {
      "text/html": [
       "<div>\n",
       "<style scoped>\n",
       "    .dataframe tbody tr th:only-of-type {\n",
       "        vertical-align: middle;\n",
       "    }\n",
       "\n",
       "    .dataframe tbody tr th {\n",
       "        vertical-align: top;\n",
       "    }\n",
       "\n",
       "    .dataframe thead th {\n",
       "        text-align: right;\n",
       "    }\n",
       "</style>\n",
       "<table border=\"1\" class=\"dataframe\">\n",
       "  <thead>\n",
       "    <tr style=\"text-align: right;\">\n",
       "      <th></th>\n",
       "      <th>Ratio (BS/M)</th>\n",
       "      <th>Light Uptake</th>\n",
       "      <th>N Assimilation</th>\n",
       "      <th>Nitrate_M</th>\n",
       "      <th>Nitrate_BS</th>\n",
       "      <th>AB (BS/M)</th>\n",
       "    </tr>\n",
       "  </thead>\n",
       "  <tbody>\n",
       "    <tr>\n",
       "      <th>0</th>\n",
       "      <td>0.1</td>\n",
       "      <td>50</td>\n",
       "      <td>2</td>\n",
       "      <td>0.228623</td>\n",
       "      <td>0.000000</td>\n",
       "      <td>0.1</td>\n",
       "    </tr>\n",
       "    <tr>\n",
       "      <th>1</th>\n",
       "      <td>0.1</td>\n",
       "      <td>100</td>\n",
       "      <td>0</td>\n",
       "      <td>0.083511</td>\n",
       "      <td>0.442664</td>\n",
       "      <td>0.1</td>\n",
       "    </tr>\n",
       "    <tr>\n",
       "      <th>2</th>\n",
       "      <td>0.1</td>\n",
       "      <td>150</td>\n",
       "      <td>0</td>\n",
       "      <td>0.000000</td>\n",
       "      <td>0.823728</td>\n",
       "      <td>0.1</td>\n",
       "    </tr>\n",
       "    <tr>\n",
       "      <th>3</th>\n",
       "      <td>0.1</td>\n",
       "      <td>200</td>\n",
       "      <td>0</td>\n",
       "      <td>0.000000</td>\n",
       "      <td>1.121280</td>\n",
       "      <td>0.1</td>\n",
       "    </tr>\n",
       "    <tr>\n",
       "      <th>4</th>\n",
       "      <td>0.1</td>\n",
       "      <td>300</td>\n",
       "      <td>0</td>\n",
       "      <td>0.000000</td>\n",
       "      <td>1.716385</td>\n",
       "      <td>0.1</td>\n",
       "    </tr>\n",
       "    <tr>\n",
       "      <th>...</th>\n",
       "      <td>...</td>\n",
       "      <td>...</td>\n",
       "      <td>...</td>\n",
       "      <td>...</td>\n",
       "      <td>...</td>\n",
       "      <td>...</td>\n",
       "    </tr>\n",
       "    <tr>\n",
       "      <th>115</th>\n",
       "      <td>1.0</td>\n",
       "      <td>600</td>\n",
       "      <td>2</td>\n",
       "      <td>2.055822</td>\n",
       "      <td>0.000000</td>\n",
       "      <td>1.0</td>\n",
       "    </tr>\n",
       "    <tr>\n",
       "      <th>116</th>\n",
       "      <td>1.0</td>\n",
       "      <td>700</td>\n",
       "      <td>2</td>\n",
       "      <td>2.407276</td>\n",
       "      <td>0.000000</td>\n",
       "      <td>1.0</td>\n",
       "    </tr>\n",
       "    <tr>\n",
       "      <th>117</th>\n",
       "      <td>1.0</td>\n",
       "      <td>800</td>\n",
       "      <td>2</td>\n",
       "      <td>2.682993</td>\n",
       "      <td>0.000000</td>\n",
       "      <td>1.0</td>\n",
       "    </tr>\n",
       "    <tr>\n",
       "      <th>118</th>\n",
       "      <td>1.0</td>\n",
       "      <td>900</td>\n",
       "      <td>2</td>\n",
       "      <td>2.682993</td>\n",
       "      <td>0.000000</td>\n",
       "      <td>1.0</td>\n",
       "    </tr>\n",
       "    <tr>\n",
       "      <th>119</th>\n",
       "      <td>1.0</td>\n",
       "      <td>1000</td>\n",
       "      <td>2</td>\n",
       "      <td>2.682993</td>\n",
       "      <td>0.000000</td>\n",
       "      <td>1.0</td>\n",
       "    </tr>\n",
       "  </tbody>\n",
       "</table>\n",
       "<p>120 rows × 6 columns</p>\n",
       "</div>"
      ],
      "text/plain": [
       "     Ratio (BS/M)  Light Uptake  N Assimilation  Nitrate_M  Nitrate_BS  \\\n",
       "0             0.1            50               2   0.228623    0.000000   \n",
       "1             0.1           100               0   0.083511    0.442664   \n",
       "2             0.1           150               0   0.000000    0.823728   \n",
       "3             0.1           200               0   0.000000    1.121280   \n",
       "4             0.1           300               0   0.000000    1.716385   \n",
       "..            ...           ...             ...        ...         ...   \n",
       "115           1.0           600               2   2.055822    0.000000   \n",
       "116           1.0           700               2   2.407276    0.000000   \n",
       "117           1.0           800               2   2.682993    0.000000   \n",
       "118           1.0           900               2   2.682993    0.000000   \n",
       "119           1.0          1000               2   2.682993    0.000000   \n",
       "\n",
       "     AB (BS/M)  \n",
       "0          0.1  \n",
       "1          0.1  \n",
       "2          0.1  \n",
       "3          0.1  \n",
       "4          0.1  \n",
       "..         ...  \n",
       "115        1.0  \n",
       "116        1.0  \n",
       "117        1.0  \n",
       "118        1.0  \n",
       "119        1.0  \n",
       "\n",
       "[120 rows x 6 columns]"
      ]
     },
     "execution_count": 7,
     "metadata": {},
     "output_type": "execute_result"
    }
   ],
   "source": [
    "df_no_volume"
   ]
  },
  {
   "cell_type": "markdown",
   "metadata": {
    "collapsed": false,
    "pycharm": {
     "name": "#%% md\n"
    }
   },
   "source": [
    "#### Nitrate uptake with the volume constraint "
   ]
  },
  {
   "cell_type": "code",
   "execution_count": 8,
   "metadata": {
    "collapsed": false,
    "pycharm": {
     "name": "#%%\n"
    }
   },
   "outputs": [],
   "source": [
    "# List of investigated AB BS/M ratios\n",
    "list_ratio = [0.1, 0.2, 0.3, 0.4, 0.5, 0.6, 0.7, 0.8, 0.9, 1]\n",
    "\n",
    "# List of investigated total light uptakes\n",
    "list_light = [50, 100, 150, 200, 300, 400, 500, 600, 700, 800, 900, 1000]\n",
    "\n",
    "volume = 5.3\n",
    "\n",
    "Light_Ratio = []\n",
    "Photon_Uptake = []\n",
    "NITRATE = []\n",
    "N_M = []\n",
    "N_B = []\n",
    "AB = []\n",
    "\n",
    "for r in list_ratio:\n",
    "    for l in list_light:\n",
    "        solution_frame = simul_c4(light = l, nitrogen = 1000, light_ratio=r, volume_ratio= volume, carbon= 40)\n",
    "        NIT_M = solution_frame.loc[\"[M]_NITRATE_REDUCTASE_NADH_RXN_c\"][\"fluxes\"]\n",
    "        N_M.append(NIT_M)\n",
    "        NIT_B = solution_frame.loc[\"[B]_NITRATE_REDUCTASE_NADH_RXN_c\"][\"fluxes\"]\n",
    "        N_B.append(NIT_B)\n",
    "        if NIT_B != 0 and NIT_M < 0.1:\n",
    "            NITRATE.append(0)\n",
    "        elif NIT_M > 0.1 and NIT_B > 0.1:\n",
    "            NITRATE.append(1)\n",
    "        elif NIT_M != 0 and NIT_B < 0.1:\n",
    "            NITRATE.append(2)\n",
    "        Light_Ratio.append(r)\n",
    "        Photon_Uptake.append(l)\n",
    "        res_photo_M = solution_frame.loc[\"[M]_Photon_tx\"][\"fluxes\"]\n",
    "        res_photo_B = solution_frame.loc[\"[B]_Photon_tx\"][\"fluxes\"]\n",
    "        AB.append(round((res_photo_B *  volume )/ res_photo_M, 1))\n",
    "\n",
    "\n",
    "list_of_tuples = list(zip(Light_Ratio, Photon_Uptake, NITRATE, N_M, N_B, AB))\n",
    "df_volume = pd.DataFrame(list_of_tuples,\n",
    "                  columns = [\"Ratio (BS/M)\", \"Light Uptake\", \"N Assimilation\", \"Nitrate_M\", \"Nitrate_BS\", \"AB (BS/M)\"])"
   ]
  },
  {
   "cell_type": "code",
   "execution_count": 9,
   "metadata": {
    "collapsed": false,
    "pycharm": {
     "name": "#%%\n"
    }
   },
   "outputs": [
    {
     "data": {
      "text/html": [
       "<div>\n",
       "<style scoped>\n",
       "    .dataframe tbody tr th:only-of-type {\n",
       "        vertical-align: middle;\n",
       "    }\n",
       "\n",
       "    .dataframe tbody tr th {\n",
       "        vertical-align: top;\n",
       "    }\n",
       "\n",
       "    .dataframe thead th {\n",
       "        text-align: right;\n",
       "    }\n",
       "</style>\n",
       "<table border=\"1\" class=\"dataframe\">\n",
       "  <thead>\n",
       "    <tr style=\"text-align: right;\">\n",
       "      <th></th>\n",
       "      <th>Ratio (BS/M)</th>\n",
       "      <th>Light Uptake</th>\n",
       "      <th>N Assimilation</th>\n",
       "      <th>Nitrate_M</th>\n",
       "      <th>Nitrate_BS</th>\n",
       "      <th>AB (BS/M)</th>\n",
       "    </tr>\n",
       "  </thead>\n",
       "  <tbody>\n",
       "    <tr>\n",
       "      <th>0</th>\n",
       "      <td>0.1</td>\n",
       "      <td>50</td>\n",
       "      <td>2</td>\n",
       "      <td>0.069025</td>\n",
       "      <td>0.000000</td>\n",
       "      <td>0.1</td>\n",
       "    </tr>\n",
       "    <tr>\n",
       "      <th>1</th>\n",
       "      <td>0.1</td>\n",
       "      <td>100</td>\n",
       "      <td>2</td>\n",
       "      <td>0.366577</td>\n",
       "      <td>0.000000</td>\n",
       "      <td>0.1</td>\n",
       "    </tr>\n",
       "    <tr>\n",
       "      <th>2</th>\n",
       "      <td>0.1</td>\n",
       "      <td>150</td>\n",
       "      <td>2</td>\n",
       "      <td>0.664130</td>\n",
       "      <td>0.000000</td>\n",
       "      <td>0.1</td>\n",
       "    </tr>\n",
       "    <tr>\n",
       "      <th>3</th>\n",
       "      <td>0.1</td>\n",
       "      <td>200</td>\n",
       "      <td>2</td>\n",
       "      <td>0.961682</td>\n",
       "      <td>0.000000</td>\n",
       "      <td>0.1</td>\n",
       "    </tr>\n",
       "    <tr>\n",
       "      <th>4</th>\n",
       "      <td>0.1</td>\n",
       "      <td>300</td>\n",
       "      <td>1</td>\n",
       "      <td>0.702767</td>\n",
       "      <td>0.161136</td>\n",
       "      <td>0.1</td>\n",
       "    </tr>\n",
       "    <tr>\n",
       "      <th>...</th>\n",
       "      <td>...</td>\n",
       "      <td>...</td>\n",
       "      <td>...</td>\n",
       "      <td>...</td>\n",
       "      <td>...</td>\n",
       "      <td>...</td>\n",
       "    </tr>\n",
       "    <tr>\n",
       "      <th>115</th>\n",
       "      <td>1.0</td>\n",
       "      <td>600</td>\n",
       "      <td>2</td>\n",
       "      <td>1.942093</td>\n",
       "      <td>0.000000</td>\n",
       "      <td>1.0</td>\n",
       "    </tr>\n",
       "    <tr>\n",
       "      <th>116</th>\n",
       "      <td>1.0</td>\n",
       "      <td>700</td>\n",
       "      <td>2</td>\n",
       "      <td>2.293546</td>\n",
       "      <td>0.000000</td>\n",
       "      <td>1.0</td>\n",
       "    </tr>\n",
       "    <tr>\n",
       "      <th>117</th>\n",
       "      <td>1.0</td>\n",
       "      <td>800</td>\n",
       "      <td>2</td>\n",
       "      <td>2.644999</td>\n",
       "      <td>0.000000</td>\n",
       "      <td>1.0</td>\n",
       "    </tr>\n",
       "    <tr>\n",
       "      <th>118</th>\n",
       "      <td>1.0</td>\n",
       "      <td>900</td>\n",
       "      <td>2</td>\n",
       "      <td>2.682993</td>\n",
       "      <td>0.000000</td>\n",
       "      <td>1.0</td>\n",
       "    </tr>\n",
       "    <tr>\n",
       "      <th>119</th>\n",
       "      <td>1.0</td>\n",
       "      <td>1000</td>\n",
       "      <td>2</td>\n",
       "      <td>2.682993</td>\n",
       "      <td>0.000000</td>\n",
       "      <td>1.0</td>\n",
       "    </tr>\n",
       "  </tbody>\n",
       "</table>\n",
       "<p>120 rows × 6 columns</p>\n",
       "</div>"
      ],
      "text/plain": [
       "     Ratio (BS/M)  Light Uptake  N Assimilation  Nitrate_M  Nitrate_BS  \\\n",
       "0             0.1            50               2   0.069025    0.000000   \n",
       "1             0.1           100               2   0.366577    0.000000   \n",
       "2             0.1           150               2   0.664130    0.000000   \n",
       "3             0.1           200               2   0.961682    0.000000   \n",
       "4             0.1           300               1   0.702767    0.161136   \n",
       "..            ...           ...             ...        ...         ...   \n",
       "115           1.0           600               2   1.942093    0.000000   \n",
       "116           1.0           700               2   2.293546    0.000000   \n",
       "117           1.0           800               2   2.644999    0.000000   \n",
       "118           1.0           900               2   2.682993    0.000000   \n",
       "119           1.0          1000               2   2.682993    0.000000   \n",
       "\n",
       "     AB (BS/M)  \n",
       "0          0.1  \n",
       "1          0.1  \n",
       "2          0.1  \n",
       "3          0.1  \n",
       "4          0.1  \n",
       "..         ...  \n",
       "115        1.0  \n",
       "116        1.0  \n",
       "117        1.0  \n",
       "118        1.0  \n",
       "119        1.0  \n",
       "\n",
       "[120 rows x 6 columns]"
      ]
     },
     "execution_count": 9,
     "metadata": {},
     "output_type": "execute_result"
    }
   ],
   "source": [
    "df_volume"
   ]
  },
  {
   "cell_type": "markdown",
   "metadata": {
    "collapsed": false,
    "pycharm": {
     "name": "#%% md\n"
    }
   },
   "source": [
    "### Vizualisation\n",
    "\n",
    "#### Nitrate assimilation heatmap without volume constraint"
   ]
  },
  {
   "cell_type": "code",
   "execution_count": 10,
   "metadata": {
    "collapsed": false,
    "pycharm": {
     "name": "#%%\n"
    }
   },
   "outputs": [
    {
     "data": {
      "image/png": "[encoded data removed]",
      "text/plain": [
       "<Figure size 640x480 with 2 Axes>"
      ]
     },
     "metadata": {},
     "output_type": "display_data"
    }
   ],
   "source": [
    "AB_pivot = df_no_volume.pivot(index=\"AB (BS/M)\", columns=\"Light Uptake\", values=\"N Assimilation\")\n",
    "AB_pivot.sort_index( ascending=False, inplace = True)\n",
    "\n",
    "sns.set(font_scale=0.8)\n",
    "\n",
    "myColors = ['#0260D1', '#f5ed16', '#1fe615']\n",
    "cmap = LinearSegmentedColormap.from_list('Custom', myColors, len(myColors))\n",
    "ax = sns.heatmap(AB_pivot, cmap=cmap, linewidths=.5, linecolor='black')\n",
    "\n",
    "# Manually specify colorbar labelling after it's been generated\n",
    "colorbar = ax.collections[0].colorbar\n",
    "colorbar.set_ticks([0.3, 1, 1.7 ])\n",
    "colorbar.set_ticklabels(['B', 'B + M', 'M',])\n",
    "\n",
    "# X - Y axis labels\n",
    "ax.set_title(\"Distribution of Nitrate Assimilation\", fontsize=14)\n",
    "ax.set_ylabel('AB (BS/M)')\n",
    "ax.set_xlabel('Light Uptake')\n",
    "\n",
    "# Only y-axis labels need their rotation set, x-axis labels already have a rotation of 0\n",
    "_, labels = plt.yticks()\n",
    "plt.setp(labels, rotation=0)\n",
    "plt.xticks(rotation=45)\n",
    "\n",
    "plt.show()"
   ]
  },
  {
   "cell_type": "markdown",
   "metadata": {
    "collapsed": false,
    "pycharm": {
     "name": "#%% md\n"
    }
   },
   "source": [
    "#### Nitrate assimilation heatmap with volume constraint"
   ]
  },
  {
   "cell_type": "code",
   "execution_count": 11,
   "metadata": {
    "collapsed": false,
    "pycharm": {
     "name": "#%%\n"
    }
   },
   "outputs": [
    {
     "data": {
      "image/png": "[encoded data removed]",
      "text/plain": [
       "<Figure size 640x480 with 2 Axes>"
      ]
     },
     "metadata": {},
     "output_type": "display_data"
    }
   ],
   "source": [
    "AB_pivot = df_volume.pivot(index=\"AB (BS/M)\", columns=\"Light Uptake\", values=\"N Assimilation\")\n",
    "AB_pivot.sort_index( ascending=False, inplace = True)\n",
    "\n",
    "sns.set(font_scale=0.8)\n",
    "\n",
    "myColors = ['#0260D1', '#f5ed16', '#1fe615']\n",
    "cmap = LinearSegmentedColormap.from_list('Custom', myColors, len(myColors))\n",
    "ax = sns.heatmap(AB_pivot, cmap=cmap, linewidths=.5, linecolor='black')\n",
    "\n",
    "# Manually specify colorbar labelling after it's been generated\n",
    "colorbar = ax.collections[0].colorbar\n",
    "colorbar.set_ticks([0.3, 1, 1.7 ])\n",
    "colorbar.set_ticklabels(['B', 'B + M', 'M',])\n",
    "\n",
    "# X - Y axis labels\n",
    "ax.set_title(\"Distribution of Nitrate Assimilation\", fontsize=14)\n",
    "ax.set_ylabel('AB (BS/M)')\n",
    "ax.set_xlabel('Light Uptake')\n",
    "\n",
    "# Only y-axis labels need their rotation set, x-axis labels already have a rotation of 0\n",
    "_, labels = plt.yticks()\n",
    "plt.setp(labels, rotation=0)\n",
    "\n",
    "plt.xticks(rotation=45)\n",
    "plt.show()\n"
   ]
  }
 ],
 "metadata": {
  "kernelspec": {
   "display_name": "Python 3.7.0 ('py37')",
   "language": "python",
   "name": "python3"
  },
  "language_info": {
   "codemirror_mode": {
    "name": "ipython",
    "version": 3
   },
   "file_extension": ".py",
   "mimetype": "text/x-python",
   "name": "python",
   "nbconvert_exporter": "python",
   "pygments_lexer": "ipython3",
   "version": "3.7.0"
  },
  "vscode": {
   "interpreter": {
    "hash": "7d15fcec3957283ca3564f33e10fdb218d8ca520fe3cd837373b280b69d49924"
   }
  }
 },
 "nbformat": 4,
 "nbformat_minor": 1
}
