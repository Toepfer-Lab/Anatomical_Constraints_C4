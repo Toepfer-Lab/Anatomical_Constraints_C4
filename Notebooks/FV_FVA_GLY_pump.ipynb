{
 "cells": [
  {
   "cell_type": "markdown",
   "metadata": {
    "pycharm": {
     "name": "#%% md\n"
    }
   },
   "source": [
    "## FVA simulations to detect glycine decarboxylase activity "
   ]
  },
  {
   "cell_type": "markdown",
   "metadata": {},
   "source": [
    "### Imports"
   ]
  },
  {
   "cell_type": "code",
   "execution_count": 6,
   "metadata": {
    "collapsed": false,
    "pycharm": {
     "name": "#%%\n"
    }
   },
   "outputs": [],
   "source": [
    "import sys\n",
    "from cobra.io import read_sbml_model\n",
    "sys.path.append(\"../Code\")\n",
    "from model_functions import *\n",
    "from cobra.flux_analysis import flux_variability_analysis\n",
    "from cobra import flux_analysis"
   ]
  },
  {
   "cell_type": "markdown",
   "metadata": {},
   "source": [
    "### Importing and constraining the model"
   ]
  },
  {
   "cell_type": "code",
   "execution_count": 7,
   "metadata": {
    "collapsed": false,
    "pycharm": {
     "name": "#%%\n"
    }
   },
   "outputs": [
    {
     "name": "stderr",
     "output_type": "stream",
     "text": [
      "No objective coefficients in model. Unclear what should be optimized\n"
     ]
    }
   ],
   "source": [
    "\"\"\"\n",
    "2nd set of constrains\n",
    "\n",
    "\"\"\"\n",
    "\n",
    "c4_model = read_sbml_model(\"../Models/c4_model.xml\")\n",
    "\n",
    "c4_model.solver = \"glpk\"\n",
    "\n",
    "c4_model.objective = '[M]_Maize_biomass_tx'\n",
    "\n",
    "#Constrains for light dependent maintenance costs\n",
    "atp_b = c4_model.reactions.get_by_id(\"[B]_ATPase_tx\")\n",
    "photon_b = c4_model.reactions.get_by_id(\"[B]_Photon_tx\")\n",
    "atp_m = c4_model.reactions.get_by_id(\"[M]_ATPase_tx\")\n",
    "photon_m = c4_model.reactions.get_by_id(\"[M]_Photon_tx\")\n",
    "\n",
    "const_b = c4_model.problem.Constraint((0.0049 * photon_b.flux_expression + 2.7852) - atp_b.flux_expression , lb = 0, ub = 0)\n",
    "c4_model.add_cons_vars(const_b)\n",
    "\n",
    "const_m = c4_model.problem.Constraint((0.0049 * photon_m.flux_expression + 2.7852) - atp_m.flux_expression , lb = 0, ub = 0)\n",
    "c4_model.add_cons_vars(const_m)\n",
    "\n",
    "\n",
    "# ATP/NADPH 3:1 constraints\n",
    "const = c4_model.problem.Constraint(c4_model.reactions.get_by_id(\"[B]_ATPase_tx\").flux_expression -  3 * (c4_model.reactions.get_by_id(\"[B]_NADPHoxc_tx\").flux_expression + c4_model.reactions.get_by_id(\"[B]_NADPHoxp_tx\").flux_expression + c4_model.reactions.get_by_id(\"[B]_NADPHoxm_tx\").flux_expression) , lb = 0, ub = 0)\n",
    "c4_model.add_cons_vars(const)\n",
    "\n",
    "const = c4_model.problem.Constraint(c4_model.reactions.get_by_id(\"[M]_ATPase_tx\").flux_expression -  3 * (c4_model.reactions.get_by_id(\"[M]_NADPHoxc_tx\").flux_expression + c4_model.reactions.get_by_id(\"[M]_NADPHoxp_tx\").flux_expression + c4_model.reactions.get_by_id(\"[M]_NADPHoxm_tx\").flux_expression) , lb = 0, ub = 0)\n",
    "c4_model.add_cons_vars(const)\n",
    "\n"
   ]
  },
  {
   "cell_type": "markdown",
   "metadata": {},
   "source": [
    "#### Experiment specific Rubisco constraints"
   ]
  },
  {
   "cell_type": "code",
   "execution_count": 8,
   "metadata": {},
   "outputs": [
    {
     "data": {
      "text/plain": [
       "<optlang.glpk_interface.Constraint at 0x2bfa4b092e8>"
      ]
     },
     "execution_count": 8,
     "metadata": {},
     "output_type": "execute_result"
    }
   ],
   "source": [
    "\n",
    "#Force C4 cycle: Block Rubisco carboxylase/oxygenase in Mesophyll and exterior BS Rubisco\n",
    "\n",
    "set_bounds('[B]_RIBULOSE_BISPHOSPHATE_CARBOXYLASE_RXN_p_Ex', (0, 0), c4_model)\n",
    "\n",
    "set_fixed_flux_ratio({'[M]_RIBULOSE_BISPHOSPHATE_CARBOXYLASE_RXN_p':3,'[M]_RXN_961_p':1},c4_model)\n",
    "set_fixed_flux_ratio({'[B]_RIBULOSE_BISPHOSPHATE_CARBOXYLASE_RXN_p':10,'[B]_RXN_961_p':1},c4_model)"
   ]
  },
  {
   "cell_type": "markdown",
   "metadata": {},
   "source": [
    "### Flux Simulation"
   ]
  },
  {
   "cell_type": "markdown",
   "metadata": {},
   "source": [
    "#### FVA for GDC with volume constraint"
   ]
  },
  {
   "cell_type": "code",
   "execution_count": 9,
   "metadata": {
    "collapsed": false,
    "pycharm": {
     "name": "#%%\n"
    }
   },
   "outputs": [
    {
     "name": "stdout",
     "output_type": "stream",
     "text": [
      "                    minimum       maximum\n",
      "[B]_GCVMULTI_RXN_m   1.4437  1.443700e+00\n",
      "[M]_GCVMULTI_RXN_m   0.0000  1.899731e-12\n"
     ]
    }
   ],
   "source": [
    "\"\"\"\n",
    "Model simulation (autotrofic) with pFBA\n",
    "\n",
    "Generation of a solution frame with resulting fluxes\n",
    "\"\"\"\n",
    "\n",
    "reaction_list = [\"[B]_GCVMULTI_RXN_m\", \"[M]_GCVMULTI_RXN_m\"]\n",
    "\n",
    "with c4_model:\n",
    "    c4_model.objective = \"[M]_Maize_biomass_tx\"\n",
    "    c4_model.solver = \"glpk\"\n",
    "    medium = c4_model.medium\n",
    "    medium[\"[M]_CO2_tx\"] = 40   #CO2 Uptake constrain\n",
    "    medium[\"[B]_Nitrate_tx\"] = 1000 #Nitrate uptake constrain\n",
    "    c4_model.medium = medium\n",
    "\n",
    "    #Volume Constrains\n",
    "    volume_ratio = 5.3                                                                                                                                                                                   \n",
    "\n",
    "    #Light Uptake\n",
    "    light = 1000\n",
    "    light_ratio = 0.66\n",
    "\n",
    "\n",
    "    #Equations for defining the light uptake\n",
    "    set_bounds(\"[M]_Photon_tx\", ((light/(light_ratio+1)), light/(light_ratio+1)), c4_model)\n",
    "    set_bounds(\"[B]_Photon_tx\", ((light-(light/(light_ratio+1)))/volume_ratio, (light-(light/(light_ratio+1)))/volume_ratio), c4_model)\n",
    "\n",
    "\n",
    "    #Defining volume constrain in the exchange reactions\n",
    "    for reaction in c4_model.reactions:\n",
    "        if reaction.id[0:4] == \"[MB]\":\n",
    "            dict = {reaction.products[0] : -(1/volume_ratio)}\n",
    "            reaction.subtract_metabolites(dict, combine=False)\n",
    "\n",
    "    \n",
    "    #Running FVA\n",
    "    solution = flux_variability_analysis(c4_model, reaction_list=reaction_list, pfba_factor=1)\n",
    "    print(solution)\n",
    "    solution = flux_analysis.pfba(c4_model)\n",
    "    solution_frame=solution.to_frame()\n"
   ]
  },
  {
   "cell_type": "markdown",
   "metadata": {},
   "source": [
    "#### FVA for GDC without volume constraint"
   ]
  },
  {
   "cell_type": "code",
   "execution_count": 10,
   "metadata": {},
   "outputs": [
    {
     "name": "stdout",
     "output_type": "stream",
     "text": [
      "                     minimum   maximum\n",
      "[B]_GCVMULTI_RXN_m  5.935902  5.935902\n",
      "[M]_GCVMULTI_RXN_m  1.858851  1.858851\n"
     ]
    }
   ],
   "source": [
    "with c4_model:\n",
    "    c4_model.objective = \"[M]_Maize_biomass_tx\"\n",
    "    c4_model.solver = \"glpk\"\n",
    "    medium = c4_model.medium\n",
    "    medium[\"[M]_CO2_tx\"] = 40   #CO2 Uptake constrain\n",
    "    medium[\"[B]_Nitrate_tx\"] = 1000 #Nitrate uptake constrain\n",
    "    c4_model.medium = medium\n",
    "\n",
    "    #Volume Constrains\n",
    "    volume_ratio = 1                                                                                                                                                                                \n",
    "\n",
    "    #Light Uptake\n",
    "    light = 1000\n",
    "    light_ratio = 0.66\n",
    "    \n",
    "    #Equations for defining the light uptake\n",
    "    set_bounds(\"[M]_Photon_tx\", ((light/(light_ratio+1)), light/(light_ratio+1)), c4_model)\n",
    "    set_bounds(\"[B]_Photon_tx\", ((abs(light-(light/(light_ratio+1))))/volume_ratio, (abs(light-(light/(light_ratio+1))))/volume_ratio), c4_model)\n",
    "\n",
    "    #Defining volume constrain in the exchange reactions\n",
    "    for reaction in c4_model.reactions:\n",
    "        if reaction.id[0:4] == \"[MB]\":\n",
    "            dict = {reaction.products[0] : -(1/volume_ratio)}\n",
    "            reaction.subtract_metabolites(dict, combine=False)\n",
    "\n",
    "    solution = flux_variability_analysis(c4_model, reaction_list=reaction_list, pfba_factor=1)\n",
    "    print(solution)\n",
    "    solution = flux_analysis.pfba(c4_model)\n",
    "    solution_frame=solution.to_frame()"
   ]
  }
 ],
 "metadata": {
  "kernelspec": {
   "display_name": "Python 3.7.0 ('py37')",
   "language": "python",
   "name": "python3"
  },
  "language_info": {
   "codemirror_mode": {
    "name": "ipython",
    "version": 3
   },
   "file_extension": ".py",
   "mimetype": "text/x-python",
   "name": "python",
   "nbconvert_exporter": "python",
   "pygments_lexer": "ipython3",
   "version": "3.7.0"
  },
  "vscode": {
   "interpreter": {
    "hash": "7d15fcec3957283ca3564f33e10fdb218d8ca520fe3cd837373b280b69d49924"
   }
  }
 },
 "nbformat": 4,
 "nbformat_minor": 1
}
