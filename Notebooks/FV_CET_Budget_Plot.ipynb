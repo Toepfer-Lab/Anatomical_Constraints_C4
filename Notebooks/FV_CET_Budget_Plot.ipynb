{
 "cells": [
  {
   "cell_type": "markdown",
   "metadata": {
    "collapsed": false,
    "pycharm": {
     "name": "#%% md\n"
    }
   },
   "source": [
    "# Budget Plots for CET activity in BS cell\n",
    "## Cyclic/Linear eletron transport activity in the bundle sheath cell under low light condition and implemented volume constraint\n",
    "\n",
    "### Imports"
   ]
  },
  {
   "cell_type": "code",
   "execution_count": 1,
   "metadata": {
    "collapsed": false,
    "pycharm": {
     "name": "#%%\n"
    }
   },
   "outputs": [],
   "source": [
    "import pandas as pd\n",
    "from cobra.io import read_sbml_model\n",
    "from cobra import flux_analysis\n",
    "import sys\n",
    "sys.path.append(\"../Code\")\n",
    "from model_functions import *"
   ]
  },
  {
   "cell_type": "markdown",
   "metadata": {
    "collapsed": false,
    "pycharm": {
     "name": "#%% md\n"
    }
   },
   "source": [
    "### Reading and constraining C4 model"
   ]
  },
  {
   "cell_type": "code",
   "execution_count": 2,
   "metadata": {
    "collapsed": false,
    "pycharm": {
     "name": "#%%\n"
    }
   },
   "outputs": [
    {
     "name": "stderr",
     "output_type": "stream",
     "text": [
      "No objective coefficients in model. Unclear what should be optimized\n"
     ]
    }
   ],
   "source": [
    "\"\"\"\n",
    "Read and prepare C4 model\n",
    "\"\"\"\n",
    "\n",
    "c4_model = read_sbml_model(\"../Models/c4_model.xml\")\n",
    "\n",
    "c4_model.solver = \"glpk\"\n",
    "\n",
    "c4_model.objective = '[M]_Maize_biomass_tx'\n",
    "\n",
    "#Setting up Rubisco carboxylase/oxygenase (3:1) ratio in C4 model\n",
    "const = c4_model.problem.Constraint(\n",
    "    3 * c4_model.reactions.get_by_id(\"[M]_RXN_961_p\").flux_expression - 1 * c4_model.reactions.get_by_id(\n",
    "        \"[M]_RIBULOSE_BISPHOSPHATE_CARBOXYLASE_RXN_p\").flux_expression, lb=0, ub=0)\n",
    "c4_model.add_cons_vars(const)\n",
    "\n",
    "const = c4_model.problem.Constraint(\n",
    "    3 * c4_model.reactions.get_by_id(\"[B]_RXN_961_p\").flux_expression - 1 * c4_model.reactions.get_by_id(\n",
    "        \"[B]_RIBULOSE_BISPHOSPHATE_CARBOXYLASE_RXN_p_Ex\").flux_expression, lb=0, ub=0)\n",
    "c4_model.add_cons_vars(const)\n",
    "\n",
    "#Block Mesophyll and Bundle Sheath \"External\" Rubisco\n",
    "set_bounds(\"[M]_RIBULOSE_BISPHOSPHATE_CARBOXYLASE_RXN_p\", (0, 0), c4_model)\n",
    "set_bounds(\"[B]_RIBULOSE_BISPHOSPHATE_CARBOXYLASE_RXN_p_Ex\", (0,0), c4_model)\n",
    "\n",
    "\n",
    "def c4_maintenance(c4_model):\n",
    "    #Constrains for light dependent maintenance costs\n",
    "    atp_b = c4_model.reactions.get_by_id(\"[B]_ATPase_tx\")\n",
    "    photon_b = c4_model.reactions.get_by_id(\"[B]_Photon_tx\")\n",
    "    atp_m = c4_model.reactions.get_by_id(\"[M]_ATPase_tx\")\n",
    "    photon_m = c4_model.reactions.get_by_id(\"[M]_Photon_tx\")\n",
    "\n",
    "    const_b = c4_model.problem.Constraint((0.0049 * photon_b.flux_expression + 2.7852) - atp_b.flux_expression, lb=0,\n",
    "                                          ub=0)\n",
    "    c4_model.add_cons_vars(const_b)\n",
    "\n",
    "    const_m = c4_model.problem.Constraint((0.0049 * photon_m.flux_expression + 2.7852) - atp_m.flux_expression, lb=0,\n",
    "                                          ub=0)\n",
    "    c4_model.add_cons_vars(const_m)\n",
    "    # ATP/NADPH 3:1 constraints\n",
    "    const = c4_model.problem.Constraint(c4_model.reactions.get_by_id(\"[B]_ATPase_tx\").flux_expression - 3 * (\n",
    "            c4_model.reactions.get_by_id(\"[B]_NADPHoxc_tx\").flux_expression + c4_model.reactions.get_by_id(\n",
    "        \"[B]_NADPHoxp_tx\").flux_expression + c4_model.reactions.get_by_id(\"[B]_NADPHoxm_tx\").flux_expression), lb=0,\n",
    "                                        ub=0)\n",
    "    c4_model.add_cons_vars(const)\n",
    "\n",
    "    const = c4_model.problem.Constraint(c4_model.reactions.get_by_id(\"[M]_ATPase_tx\").flux_expression - 3 * (\n",
    "            c4_model.reactions.get_by_id(\"[M]_NADPHoxc_tx\").flux_expression + c4_model.reactions.get_by_id(\n",
    "        \"[M]_NADPHoxp_tx\").flux_expression + c4_model.reactions.get_by_id(\"[M]_NADPHoxm_tx\").flux_expression), lb=0,\n",
    "                                        ub=0)\n",
    "    c4_model.add_cons_vars(const)\n",
    "\n",
    "\n",
    "#Add Light dependent maintenance\n",
    "c4_maintenance(c4_model)"
   ]
  },
  {
   "cell_type": "markdown",
   "metadata": {
    "collapsed": false,
    "pycharm": {
     "name": "#%% md\n"
    }
   },
   "source": [
    "## Adding constrains specifics for the experiment"
   ]
  },
  {
   "cell_type": "code",
   "execution_count": 3,
   "metadata": {
    "collapsed": false,
    "pycharm": {
     "name": "#%%\n"
    }
   },
   "outputs": [],
   "source": [
    "\"\"\"\n",
    "Constrains as described in the Bellasio et al, 2022 paper\n",
    "\"\"\"\n",
    "\n",
    "#Constrains for BS small volume and low light paper experiment\n",
    "#Block pyruvate, phosphate dikinase in the BS cell\n",
    "set_bounds('[B]_PYRUVATEORTHOPHOSPHATE_DIKINASE_RXN_p', (0, 0), c4_model)\n",
    "set_bounds('[B]_PYRUVATEORTHOPHOSPHATE_DIKINASE_RXN_c', (0, 0), c4_model)\n",
    "\n",
    "#Block PEP-CK in the BS cell\n",
    "set_fixed_flux(\"[B]_PEPCARBOXYKIN_RXN_c\", 0, c4_model)\n",
    "\n",
    "#Enable PSII\n",
    "set_bounds('[B]_PSII_RXN_p', (0, 1000), c4_model)"
   ]
  },
  {
   "cell_type": "markdown",
   "metadata": {
    "collapsed": false,
    "pycharm": {
     "name": "#%% md\n"
    }
   },
   "source": [
    "### Parameterization of flux simulation"
   ]
  },
  {
   "cell_type": "code",
   "execution_count": 4,
   "metadata": {
    "collapsed": false,
    "pycharm": {
     "name": "#%%\n"
    }
   },
   "outputs": [],
   "source": [
    "\n",
    "def simul_c4(c4_model, carbon, nitrogen, light, volume_ratio, light_ratio):\n",
    "    with c4_model:\n",
    "        c4_model.objective = \"[M]_Maize_biomass_tx\"\n",
    "        c4_model.solver = \"glpk\"\n",
    "        medium = c4_model.medium\n",
    "        medium[\"[M]_CO2_tx\"] = carbon  #CO2 Uptake constrain\n",
    "        medium[\"[B]_Nitrate_tx\"] = nitrogen #Nitrate uptake constrain\n",
    "        c4_model.medium = medium\n",
    "\n",
    "        #Constrains for light uptake\n",
    "        set_bounds(\"[M]_Photon_tx\", ((light/(light_ratio+1)), light/(light_ratio+1)), c4_model)\n",
    "        set_bounds(\"[B]_Photon_tx\", ((light-(light/(light_ratio+1)))/volume_ratio, (light-(light/(light_ratio+1)))/volume_ratio), c4_model)\n",
    "\n",
    "        #Implementation of volume constraint in the exchange reactions\n",
    "        for reaction in c4_model.reactions:\n",
    "            if reaction.id[0:4] == \"[MB]\":\n",
    "                dict = {reaction.products[0] : -(1/volume_ratio)}\n",
    "                reaction.subtract_metabolites(dict, combine=False)\n",
    "\n",
    "        solution = flux_analysis.pfba(c4_model)\n",
    "        solution_frame=solution.to_frame()\n",
    "        return solution_frame\n"
   ]
  },
  {
   "cell_type": "markdown",
   "metadata": {
    "collapsed": false,
    "pycharm": {
     "name": "#%% md\n"
    }
   },
   "source": [
    "### Selecting metabolites to budget"
   ]
  },
  {
   "cell_type": "code",
   "execution_count": 5,
   "metadata": {
    "collapsed": false,
    "pycharm": {
     "name": "#%%\n"
    }
   },
   "outputs": [
    {
     "data": {
      "text/plain": [
       "[<Metabolite [B]_PLASTOQUINONE_p at 0x18285297630>]"
      ]
     },
     "execution_count": 5,
     "metadata": {},
     "output_type": "execute_result"
    }
   ],
   "source": [
    "\"\"\"\n",
    "Define search parameters\n",
    "\n",
    "Select metabolites to search\n",
    "\"\"\"\n",
    "\n",
    "#Defining the list of metabolites to search\n",
    "budget_metabolites = []\n",
    "\n",
    "#Defining the compartments within the model\n",
    "compartment = [\"_c\", \"_m\", \"_p\", \"_x\", \"_e\", \"_i\", \"_v\", \"_l\", \"tx\", \"ss\"]\n",
    "\n",
    "#Searching for the metabolites in the model\n",
    "for met in c4_model.metabolites.query(\"]_PLASTOQUINONE_\"):\n",
    "    if met.id[:3] == \"[B]\":\n",
    "        budget_metabolites.append(met)\n",
    "\n",
    "budget_metabolites"
   ]
  },
  {
   "cell_type": "markdown",
   "metadata": {
    "collapsed": false,
    "pycharm": {
     "name": "#%% md\n"
    }
   },
   "source": [
    "### Defining list of consuming and producing reactions from metabolites"
   ]
  },
  {
   "cell_type": "code",
   "execution_count": 6,
   "metadata": {
    "collapsed": false,
    "pycharm": {
     "name": "#%%\n"
    }
   },
   "outputs": [],
   "source": [
    "\"\"\"\n",
    "Define consuming and producing reactions\n",
    "\"\"\"\n",
    "\n",
    "#Defining list of reactions producing and consuming the metabolite\n",
    "consumers = []\n",
    "producers = []\n",
    "\n",
    "#Add reactions to respective list and exclude transport reactions\n",
    "for met in budget_metabolites:\n",
    "    for reaction in c4_model.reactions:\n",
    "        if met in reaction.reactants and reaction.id[-2:] in compartment:\n",
    "            consumers.append(reaction.id)\n",
    "        elif met in reaction.products and reaction.id[-2:] in compartment:\n",
    "            producers.append(reaction.id)"
   ]
  },
  {
   "cell_type": "markdown",
   "metadata": {
    "collapsed": false,
    "pycharm": {
     "name": "#%% md\n"
    }
   },
   "source": [
    "### Budget Plot under low light conditions"
   ]
  },
  {
   "cell_type": "markdown",
   "metadata": {
    "collapsed": false,
    "pycharm": {
     "name": "#%% md\n"
    }
   },
   "source": [
    "#### Flux simulation"
   ]
  },
  {
   "cell_type": "code",
   "execution_count": 7,
   "metadata": {
    "collapsed": false,
    "pycharm": {
     "name": "#%%\n"
    }
   },
   "outputs": [
    {
     "name": "stdout",
     "output_type": "stream",
     "text": [
      "Bundle Sheath Rubisco carboxylase 18.07946165628478\n",
      "External Bundle Sheath Rubisco carboxylase 0.0\n",
      "Mesophyll Rubisco carboxylase 0.0\n",
      "Mesophyll PEPC 24.947006338875344\n",
      "Bundle Sheath PEP-CK 0.0\n",
      "Bundle Sheath NADP-ME (c) 0.0\n",
      "Bundle Sheath NADP-ME (p) 17.00242351616826\n",
      "Bundle Sheath NAD-ME 0.0\n",
      "Bundle Sheath Glycine Dehydrogenase 0.33587288480464916\n"
     ]
    }
   ],
   "source": [
    "solution_frame_LL = simul_c4(c4_model, 25, 1000, 350, 1.37, 0.343)\n",
    "get_C4_fluxes(solution_frame_LL)"
   ]
  },
  {
   "cell_type": "markdown",
   "metadata": {},
   "source": [
    "### Budget Plot under low light conditions"
   ]
  },
  {
   "cell_type": "markdown",
   "metadata": {},
   "source": [
    "#### Flux simulation"
   ]
  },
  {
   "cell_type": "code",
   "execution_count": 8,
   "metadata": {},
   "outputs": [
    {
     "name": "stdout",
     "output_type": "stream",
     "text": [
      "Bundle Sheath Rubisco carboxylase 18.287375974141348\n",
      "External Bundle Sheath Rubisco carboxylase 0.0\n",
      "Mesophyll Rubisco carboxylase 0.0\n",
      "Mesophyll PEPC 24.947006338874626\n",
      "Bundle Sheath PEP-CK 0.0\n",
      "Bundle Sheath NADP-ME (c) 0.0\n",
      "Bundle Sheath NADP-ME (p) 17.015598556967575\n",
      "Bundle Sheath NAD-ME 0.08956893140407729\n",
      "Bundle Sheath Glycine Dehydrogenase 0.22046405346537676\n"
     ]
    }
   ],
   "source": [
    "solution_frame_HL = simul_c4(c4_model, 25, 1000, 1000, 1.38, 0.414)\n",
    "get_C4_fluxes(solution_frame_HL)"
   ]
  },
  {
   "cell_type": "markdown",
   "metadata": {
    "collapsed": false,
    "pycharm": {
     "name": "#%% md\n"
    }
   },
   "source": [
    "### Data preparation for budget plot"
   ]
  },
  {
   "cell_type": "code",
   "execution_count": 9,
   "metadata": {
    "collapsed": false,
    "pycharm": {
     "name": "#%%\n"
    }
   },
   "outputs": [],
   "source": [
    "\"\"\"\n",
    "Correct consumption/production with regards to directionality\n",
    "\"\"\"\n",
    "def budget_plot(solution_frame, producers, consumers):\n",
    "    \n",
    "    #Get flux values from the simulation for metabolite consuming/producing reactions\n",
    "    producers_df = solution_frame.loc[producers,:]\n",
    "    consumers_df = solution_frame.loc[consumers,:]\n",
    "\n",
    "    #Get values with negative flows: producing reactions with negative flow are consuming and vice-versa\n",
    "    negative_producers = list(producers_df[producers_df[\"fluxes\"] < 0].index)\n",
    "    negative_consumers = list(consumers_df[consumers_df[\"fluxes\"] < 0].index)\n",
    "\n",
    "\n",
    "    #Add reactions to correct list\n",
    "    consumers.extend(negative_producers)\n",
    "    producers.extend(negative_consumers)\n",
    "\n",
    "    #Remove reactions with negative flux from old list\n",
    "    def remove_items(test_list, item):\n",
    "        res = [i for i in test_list if i != item]\n",
    "        return res\n",
    "\n",
    "    for item in negative_producers:\n",
    "        producers = remove_items(producers, item)\n",
    "\n",
    "    for item in negative_consumers:\n",
    "        consumers = remove_items(consumers, item)\n",
    "\n",
    "    \"\"\"\n",
    "    Get producing reactions and fluxes\n",
    "    \"\"\"\n",
    "\n",
    "    #Get flux values from the simulation for metabolite consuming/producing reactions (correct list)\n",
    "    producers_df = solution_frame.loc[producers,:]\n",
    "    #Make all values positive (disregard directionality)\n",
    "    print(producers_df)\n",
    "    producers_df[\"fluxes\"] = producers_df[\"fluxes\"].abs()\n",
    "    #Remove reactions with zero flux\n",
    "    producers_df = producers_df[(producers_df.T != 0).all()]\n",
    "    producers_df\n",
    "\n",
    "\n",
    "    \"\"\"\n",
    "    Get consuming reactions and fluxes\n",
    "    \"\"\"\n",
    "\n",
    "    #Get flux values from the simulation for metabolite consuming/producing reactions (correct list)\n",
    "    consumers_df = solution_frame.loc[consumers,:]\n",
    "    print(consumers_df)\n",
    "    #Make all values positive (disregard directionality)\n",
    "    consumers_df[\"fluxes\"]  = consumers_df[\"fluxes\"].abs()\n",
    "    #Remove reactions with zero flux\n",
    "    consumers_df = consumers_df[(consumers_df.T != 0).all()]\n",
    "    consumers_df\n",
    "\n",
    "    \"\"\"\n",
    "    Concatenate producer and consumer dataframes\n",
    "    \"\"\"\n",
    "\n",
    "    producers_df[\"Status\"] = \"Producer\"\n",
    "    consumers_df[\"Status\"] = \"Consumer\"\n",
    "\n",
    "    frame = [producers_df, consumers_df]\n",
    "\n",
    "    all_reactions = pd.concat(frame)\n",
    "\n",
    "    all_reactions[\"label\"] = all_reactions.index\n",
    "\n",
    "    #Export full dataframe to csv\n",
    "    #all_reactions.to_csv(\"budget_plot.csv\", header=True)\n",
    "\n",
    "    #Correct Budget stoichiometry\n",
    "    atp_stoi=[]\n",
    "    for i in all_reactions['label']:\n",
    "        for met in budget_metabolites:\n",
    "            try:\n",
    "                rxn=c4_model.reactions.get_by_id(i).get_coefficient(met)\n",
    "                atp_stoi.append(abs(rxn))\n",
    "            except KeyError:\n",
    "                continue\n",
    "\n",
    "    new_flux = all_reactions[\"fluxes\"] * atp_stoi\n",
    "\n",
    "    all_reactions.insert(3,'coefficient', atp_stoi)\n",
    "    all_reactions.insert(4,'new_flux', new_flux)\n",
    "\n",
    "    \"\"\"\n",
    "    Fluxes in consumption and production should be equal\n",
    "    \"\"\"\n",
    "\n",
    "    #Sum the flux values\n",
    "    print(\"Sum of fluxes: {}\".format(all_reactions.groupby([\"Status\"]).new_flux.sum()))\n",
    "\n",
    "    \"\"\"\n",
    "    Pick the colors - using random\n",
    "    \"\"\"\n",
    "\n",
    "    import random\n",
    "    import matplotlib.pyplot as plt\n",
    "\n",
    "\n",
    "    #Defining the nº of colors\n",
    "    number_of_colors = len(all_reactions.index)\n",
    "\n",
    "    #Getting a list of colors\n",
    "    random.seed(177)\n",
    "    color = [\"#\"+''.join([random.choice('0123456789ABCDEF') for j in range(6)])\n",
    "                for i in range(number_of_colors)]\n",
    "\n",
    "    #Getting list of reactions\n",
    "    reaction_list = list(all_reactions.index)\n",
    "\n",
    "    #Build color dictionary\n",
    "    color_dict = {}\n",
    "    for i in range(len(reaction_list)):\n",
    "        color_dict[reaction_list[i]] = color[i]\n",
    "\n",
    "    \"\"\"\n",
    "    Plot the pivot table and barplot\n",
    "    \"\"\"\n",
    "\n",
    "    plt.style.use('fast')\n",
    "\n",
    "    chart = all_reactions.pivot_table(index=\"Status\", columns=\"label\", values=\"new_flux\")\n",
    "    chart.plot.bar(rot = 0, stacked = True, legend = True, ylabel = \"Flux\", color = color_dict)\n",
    "    plt.legend(loc='best', bbox_to_anchor=(1.0, 0.5, 0.5, 0.5), ncol = 2)\n",
    "    plt.title(\"Platoquinone Turnover in the Bundle Sheath Cell\")\n",
    "    figsize = [11, 11] #To prevent the cropping of the image\n",
    "    chart\n"
   ]
  },
  {
   "cell_type": "markdown",
   "metadata": {
    "collapsed": false,
    "pycharm": {
     "name": "#%% md\n"
    }
   },
   "source": [
    "### Budget Plot Vizualisation"
   ]
  },
  {
   "cell_type": "markdown",
   "metadata": {},
   "source": [
    "#### Low light conditions"
   ]
  },
  {
   "cell_type": "code",
   "execution_count": 10,
   "metadata": {
    "collapsed": false,
    "pycharm": {
     "name": "#%%\n"
    }
   },
   "outputs": [
    {
     "name": "stdout",
     "output_type": "stream",
     "text": [
      "                                                  fluxes  reduced_costs\n",
      "[B]_PLASTOQUINOL_PLASTOCYANIN_REDUCTASE_RXN_p  25.710888      -2.000000\n",
      "[B]_Plastoquinol_Oxidase_p                      0.000000      -3.970419\n",
      "                                             fluxes  reduced_costs\n",
      "[B]_lycopene_biosynthesis_p                0.000000      -2.000000\n",
      "[B]_Ferredoxin_Plastoquinone_Reductase_p   0.000000       1.343194\n",
      "[B]_PSII_RXN_p                             3.456495      -2.000000\n",
      "[B]_NADPH_Dehydrogenase_p                 18.797897      -2.000000\n",
      "Sum of fluxes: Status\n",
      "Consumer    25.710888\n",
      "Producer    25.710888\n",
      "Name: new_flux, dtype: float64\n"
     ]
    },
    {
     "data": {
      "image/png": "[encoded data removed]",
      "text/plain": [
       "<Figure size 640x480 with 1 Axes>"
      ]
     },
     "metadata": {},
     "output_type": "display_data"
    }
   ],
   "source": [
    "budget_plot(solution_frame_LL, producers, consumers)"
   ]
  },
  {
   "cell_type": "markdown",
   "metadata": {},
   "source": [
    "#### High light conditions"
   ]
  },
  {
   "cell_type": "code",
   "execution_count": 11,
   "metadata": {},
   "outputs": [
    {
     "name": "stdout",
     "output_type": "stream",
     "text": [
      "                                                  fluxes  reduced_costs\n",
      "[B]_PLASTOQUINOL_PLASTOCYANIN_REDUCTASE_RXN_p  53.041018           -2.0\n",
      "[B]_Plastoquinol_Oxidase_p                      0.000000          -11.5\n",
      "                                             fluxes  reduced_costs\n",
      "[B]_lycopene_biosynthesis_p                0.000000          -2.00\n",
      "[B]_Ferredoxin_Plastoquinone_Reductase_p   0.000000           1.25\n",
      "[B]_PSII_RXN_p                            26.520509          -2.00\n",
      "[B]_NADPH_Dehydrogenase_p                  0.000000           5.25\n",
      "Sum of fluxes: Status\n",
      "Consumer    53.041018\n",
      "Producer    53.041018\n",
      "Name: new_flux, dtype: float64\n"
     ]
    },
    {
     "data": {
      "image/png": "[encoded data removed]",
      "text/plain": [
       "<Figure size 640x480 with 1 Axes>"
      ]
     },
     "metadata": {},
     "output_type": "display_data"
    }
   ],
   "source": [
    "budget_plot(solution_frame_HL, producers, consumers)"
   ]
  }
 ],
 "metadata": {
  "kernelspec": {
   "display_name": "Python 3.7.0 ('py37')",
   "language": "python",
   "name": "python3"
  },
  "language_info": {
   "codemirror_mode": {
    "name": "ipython",
    "version": 3
   },
   "file_extension": ".py",
   "mimetype": "text/x-python",
   "name": "python",
   "nbconvert_exporter": "python",
   "pygments_lexer": "ipython3",
   "version": "3.7.0"
  },
  "vscode": {
   "interpreter": {
    "hash": "7d15fcec3957283ca3564f33e10fdb218d8ca520fe3cd837373b280b69d49924"
   }
  }
 },
 "nbformat": 4,
 "nbformat_minor": 1
}
